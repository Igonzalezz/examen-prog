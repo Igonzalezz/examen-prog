{
  "nbformat": 4,
  "nbformat_minor": 0,
  "metadata": {
    "colab": {
      "name": "Examen_MCD_Irving_Gonzalez.ipynb",
      "provenance": [],
      "collapsed_sections": []
    },
    "kernelspec": {
      "name": "python3",
      "display_name": "Python 3"
    },
    "language_info": {
      "name": "python"
    }
  },
  "cells": [
    {
      "cell_type": "code",
      "metadata": {
        "id": "x85-lv8Nf-9w"
      },
      "source": [
        "#Importamos las librerias que nos ayudaran a manejar los datos.\n",
        "import matplotlib.pyplot as plt\n",
        "import pandas as pd"
      ],
      "execution_count": 1,
      "outputs": []
    },
    {
      "cell_type": "code",
      "metadata": {
        "id": "5I_s2TangWHM"
      },
      "source": [
        "#Almacenamos el archivo csv en un data frame\n",
        "df_raw = pd.read_csv('/200511COVID19MEXICO.csv', encoding = 'latin1')"
      ],
      "execution_count": 2,
      "outputs": []
    },
    {
      "cell_type": "code",
      "metadata": {
        "colab": {
          "base_uri": "https://localhost:8080/"
        },
        "id": "HkAExOquiSXL",
        "outputId": "0711d87f-e51e-4c26-8ec4-e4fa781b997e"
      },
      "source": [
        "#Imprimimos las columnas que tiene el data set para tener una mejor visualizacion de las columnas a utilizar\n",
        "df_raw.columns"
      ],
      "execution_count": 3,
      "outputs": [
        {
          "output_type": "execute_result",
          "data": {
            "text/plain": [
              "Index(['FECHA_ACTUALIZACION', 'ID_REGISTRO', 'ORIGEN', 'SECTOR', 'ENTIDAD_UM',\n",
              "       'SEXO', 'ENTIDAD_NAC', 'ENTIDAD_RES', 'MUNICIPIO_RES', 'TIPO_PACIENTE',\n",
              "       'FECHA_INGRESO', 'FECHA_SINTOMAS', 'FECHA_DEF', 'INTUBADO', 'NEUMONIA',\n",
              "       'EDAD', 'NACIONALIDAD', 'EMBARAZO', 'HABLA_LENGUA_INDIG', 'DIABETES',\n",
              "       'EPOC', 'ASMA', 'INMUSUPR', 'HIPERTENSION', 'OTRA_COM',\n",
              "       'CARDIOVASCULAR', 'OBESIDAD', 'RENAL_CRONICA', 'TABAQUISMO',\n",
              "       'OTRO_CASO', 'RESULTADO', 'MIGRANTE', 'PAIS_NACIONALIDAD',\n",
              "       'PAIS_ORIGEN', 'UCI'],\n",
              "      dtype='object')"
            ]
          },
          "metadata": {
            "tags": []
          },
          "execution_count": 3
        }
      ]
    },
    {
      "cell_type": "markdown",
      "metadata": {
        "id": "A6PWj_I1cXCA"
      },
      "source": [
        "# Tabla1"
      ]
    },
    {
      "cell_type": "code",
      "metadata": {
        "id": "nNybMFsbifD8"
      },
      "source": [
        "#En un solo paso filtramos el dataset con las personas confirmadas en sonora y que fallecieron, Agrupamos por fecha de defuncion para contabilizarlos.\n",
        "df_sonora = df_raw.query(\"ENTIDAD_RES == 26 and RESULTADO == 1 and FECHA_DEF != '9999-99-99' \")[['FECHA_SINTOMAS','FECHA_INGRESO', 'FECHA_DEF']].groupby(['FECHA_SINTOMAS','FECHA_INGRESO']).count()"
      ],
      "execution_count": 4,
      "outputs": []
    },
    {
      "cell_type": "code",
      "metadata": {
        "id": "eUcOh_gMXfOI"
      },
      "source": [
        "#Imprimimos el dataset para visualizar la informacion\n",
        "df_sonora"
      ],
      "execution_count": null,
      "outputs": []
    },
    {
      "cell_type": "code",
      "metadata": {
        "id": "dah6YxieYunD"
      },
      "source": [
        "#Hacemos un pequeño ajuste en el nombre de las columnas.\n",
        "df_sonora.rename(columns={'FECHA_DEF':'DECESOS'}, inplace=True)"
      ],
      "execution_count": 6,
      "outputs": []
    },
    {
      "cell_type": "code",
      "metadata": {
        "id": "AyLJfYX1ZRUs"
      },
      "source": [
        "#Exportamos el dataset.\n",
        "df_sonora.to_csv(\"tabla1.csv\")"
      ],
      "execution_count": 7,
      "outputs": []
    },
    {
      "cell_type": "markdown",
      "metadata": {
        "id": "qzDg8wgTcfdA"
      },
      "source": [
        "# Tabla2"
      ]
    },
    {
      "cell_type": "code",
      "metadata": {
        "id": "ZqTBpaHbciAN"
      },
      "source": [
        "#Generamos un nuevo dataset filtrando por entidad de residencia (8 = Chichuahua, 19 = Nuevo Leon, 21 = Puebla, 26 = Sonora) y que el tipo de paciente sea typo 2 (hospitalizado) y  Agrupamos por entidad de residencia para contabilizarlos.\n",
        "df_SCNP = df_raw.query(\"ENTIDAD_RES == [8,19,21,26] and TIPO_PACIENTE == 2\")[['ENTIDAD_RES','TIPO_PACIENTE']].groupby(['ENTIDAD_RES']).count()"
      ],
      "execution_count": 8,
      "outputs": []
    },
    {
      "cell_type": "code",
      "metadata": {
        "id": "_6cST0QDqGtN"
      },
      "source": [
        "#Actualizamos el indice del dataset para que sea mas amigable el resultado (numero a descripcion).\n",
        "df_SCNP.index = df_SCNP.index.map({8:'Chichuahua', 19:'Nuevo Leon', 21:'Puebla', 26:'Sonora'})"
      ],
      "execution_count": 9,
      "outputs": []
    },
    {
      "cell_type": "code",
      "metadata": {
        "colab": {
          "base_uri": "https://localhost:8080/",
          "height": 206
        },
        "id": "tjQG29Mdsy90",
        "outputId": "81686287-a7ba-4cb8-8115-d5cca4e5602e"
      },
      "source": [
        "#Imprimimos el dataset para visualizar la informacion\n",
        "df_SCNP"
      ],
      "execution_count": 10,
      "outputs": [
        {
          "output_type": "execute_result",
          "data": {
            "text/html": [
              "<div>\n",
              "<style scoped>\n",
              "    .dataframe tbody tr th:only-of-type {\n",
              "        vertical-align: middle;\n",
              "    }\n",
              "\n",
              "    .dataframe tbody tr th {\n",
              "        vertical-align: top;\n",
              "    }\n",
              "\n",
              "    .dataframe thead th {\n",
              "        text-align: right;\n",
              "    }\n",
              "</style>\n",
              "<table border=\"1\" class=\"dataframe\">\n",
              "  <thead>\n",
              "    <tr style=\"text-align: right;\">\n",
              "      <th></th>\n",
              "      <th>TIPO_PACIENTE</th>\n",
              "    </tr>\n",
              "    <tr>\n",
              "      <th>ENTIDAD_RES</th>\n",
              "      <th></th>\n",
              "    </tr>\n",
              "  </thead>\n",
              "  <tbody>\n",
              "    <tr>\n",
              "      <th>Chichuahua</th>\n",
              "      <td>1013</td>\n",
              "    </tr>\n",
              "    <tr>\n",
              "      <th>Nuevo Leon</th>\n",
              "      <td>1065</td>\n",
              "    </tr>\n",
              "    <tr>\n",
              "      <th>Puebla</th>\n",
              "      <td>1295</td>\n",
              "    </tr>\n",
              "    <tr>\n",
              "      <th>Sonora</th>\n",
              "      <td>604</td>\n",
              "    </tr>\n",
              "  </tbody>\n",
              "</table>\n",
              "</div>"
            ],
            "text/plain": [
              "             TIPO_PACIENTE\n",
              "ENTIDAD_RES               \n",
              "Chichuahua            1013\n",
              "Nuevo Leon            1065\n",
              "Puebla                1295\n",
              "Sonora                 604"
            ]
          },
          "metadata": {
            "tags": []
          },
          "execution_count": 10
        }
      ]
    },
    {
      "cell_type": "code",
      "metadata": {
        "id": "hzjqhFJiqyZa"
      },
      "source": [
        "#Exportamos el dataset.\n",
        "df_SCNP.to_csv(\"tabla2.csv\")"
      ],
      "execution_count": 11,
      "outputs": []
    }
  ]
}
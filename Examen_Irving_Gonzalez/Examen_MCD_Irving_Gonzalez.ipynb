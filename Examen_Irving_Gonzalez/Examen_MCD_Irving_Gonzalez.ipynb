{
  "nbformat": 4,
  "nbformat_minor": 0,
  "metadata": {
    "colab": {
      "name": "Examen_MCD_Irving_Gonzalez.ipynb",
      "provenance": [],
      "collapsed_sections": []
    },
    "kernelspec": {
      "name": "python3",
      "display_name": "Python 3"
    },
    "language_info": {
      "name": "python"
    }
  },
  "cells": [
    {
      "cell_type": "code",
      "metadata": {
        "id": "x85-lv8Nf-9w"
      },
      "source": [
        "#Importamos las librerias que nos ayudaran a manejar los datos.\n",
        "import matplotlib.pyplot as plt\n",
        "import pandas as pd"
      ],
      "execution_count": 1,
      "outputs": []
    },
    {
      "cell_type": "code",
      "metadata": {
        "id": "5I_s2TangWHM"
      },
      "source": [
        "#Almacenamos el archivo csv en un data frame\n",
        "df_raw = pd.read_csv('/200511COVID19MEXICO.csv', encoding = 'latin1')"
      ],
      "execution_count": 3,
      "outputs": []
    },
    {
      "cell_type": "code",
      "metadata": {
        "colab": {
          "base_uri": "https://localhost:8080/"
        },
        "id": "HkAExOquiSXL",
        "outputId": "bdb2b7d5-1c6b-491a-8500-5db8f4310fe6"
      },
      "source": [
        "#Imprimimos las columnas que tiene el data set para tener una mejor visualizacion de las columnas a utilizar\n",
        "df_raw.columns"
      ],
      "execution_count": 22,
      "outputs": [
        {
          "output_type": "execute_result",
          "data": {
            "text/plain": [
              "Index(['FECHA_ACTUALIZACION', 'ID_REGISTRO', 'ORIGEN', 'SECTOR', 'ENTIDAD_UM',\n",
              "       'SEXO', 'ENTIDAD_NAC', 'ENTIDAD_RES', 'MUNICIPIO_RES', 'TIPO_PACIENTE',\n",
              "       'FECHA_INGRESO', 'FECHA_SINTOMAS', 'FECHA_DEF', 'INTUBADO', 'NEUMONIA',\n",
              "       'EDAD', 'NACIONALIDAD', 'EMBARAZO', 'HABLA_LENGUA_INDIG', 'DIABETES',\n",
              "       'EPOC', 'ASMA', 'INMUSUPR', 'HIPERTENSION', 'OTRA_COM',\n",
              "       'CARDIOVASCULAR', 'OBESIDAD', 'RENAL_CRONICA', 'TABAQUISMO',\n",
              "       'OTRO_CASO', 'RESULTADO', 'MIGRANTE', 'PAIS_NACIONALIDAD',\n",
              "       'PAIS_ORIGEN', 'UCI'],\n",
              "      dtype='object')"
            ]
          },
          "metadata": {
            "tags": []
          },
          "execution_count": 22
        }
      ]
    },
    {
      "cell_type": "code",
      "metadata": {
        "id": "nNybMFsbifD8"
      },
      "source": [
        "#En un solo paso filtramos el dataset con las personas confirmadas en sonora y que fallecieron, Agrupamos por fecha de defuncion para contabilizarlos.\n",
        "df_sonora = df_raw.query(\"ENTIDAD_RES == 26 and RESULTADO == 1 and FECHA_DEF != '9999-99-99' \")[['FECHA_SINTOMAS','FECHA_INGRESO', 'FECHA_DEF']].groupby(['FECHA_SINTOMAS','FECHA_INGRESO']).count()"
      ],
      "execution_count": 87,
      "outputs": []
    },
    {
      "cell_type": "code",
      "metadata": {
        "id": "eUcOh_gMXfOI"
      },
      "source": [
        "#Imprimimos el dataset para visualizar la informacion\n",
        "df_sonora"
      ],
      "execution_count": null,
      "outputs": []
    },
    {
      "cell_type": "code",
      "metadata": {
        "id": "dah6YxieYunD"
      },
      "source": [
        "#Hacemos un pequeño ajuste en el nombre de las columnas.\n",
        "df_sonora.rename(columns={'FECHA_DEF':'DECESOS'}, inplace=True)"
      ],
      "execution_count": 88,
      "outputs": []
    },
    {
      "cell_type": "code",
      "metadata": {
        "id": "AyLJfYX1ZRUs"
      },
      "source": [
        "#Exportamos el dataset.\n",
        "df_sonora.to_csv(\"tabla1.csv\")"
      ],
      "execution_count": 89,
      "outputs": []
    }
  ]
}
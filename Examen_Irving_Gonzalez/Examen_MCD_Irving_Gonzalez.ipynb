{
  "nbformat": 4,
  "nbformat_minor": 0,
  "metadata": {
    "colab": {
      "name": "Examen_MCD_Irving_Gonzalez.ipynb",
      "provenance": [],
      "collapsed_sections": [
        "wx3tO_iQukVF"
      ]
    },
    "kernelspec": {
      "name": "python3",
      "display_name": "Python 3"
    },
    "language_info": {
      "name": "python"
    }
  },
  "cells": [
    {
      "cell_type": "code",
      "metadata": {
        "id": "x85-lv8Nf-9w"
      },
      "source": [
        "#Importamos las librerias que nos ayudaran a manejar los datos.\n",
        "import pandas as pd"
      ],
      "execution_count": 1,
      "outputs": []
    },
    {
      "cell_type": "code",
      "metadata": {
        "id": "5I_s2TangWHM"
      },
      "source": [
        "#Almacenamos el archivo csv en un data frame\n",
        "df_raw = pd.read_csv('/200511COVID19MEXICO.csv', encoding = 'latin1')"
      ],
      "execution_count": 2,
      "outputs": []
    },
    {
      "cell_type": "code",
      "metadata": {
        "colab": {
          "base_uri": "https://localhost:8080/"
        },
        "id": "HkAExOquiSXL",
        "outputId": "af9b626f-f744-4772-c0c5-53b02b99d083"
      },
      "source": [
        "#Imprimimos las columnas que tiene el data set para tener una mejor visualizacion de las columnas a utilizar\n",
        "df_raw.columns"
      ],
      "execution_count": 3,
      "outputs": [
        {
          "output_type": "execute_result",
          "data": {
            "text/plain": [
              "Index(['FECHA_ACTUALIZACION', 'ID_REGISTRO', 'ORIGEN', 'SECTOR', 'ENTIDAD_UM',\n",
              "       'SEXO', 'ENTIDAD_NAC', 'ENTIDAD_RES', 'MUNICIPIO_RES', 'TIPO_PACIENTE',\n",
              "       'FECHA_INGRESO', 'FECHA_SINTOMAS', 'FECHA_DEF', 'INTUBADO', 'NEUMONIA',\n",
              "       'EDAD', 'NACIONALIDAD', 'EMBARAZO', 'HABLA_LENGUA_INDIG', 'DIABETES',\n",
              "       'EPOC', 'ASMA', 'INMUSUPR', 'HIPERTENSION', 'OTRA_COM',\n",
              "       'CARDIOVASCULAR', 'OBESIDAD', 'RENAL_CRONICA', 'TABAQUISMO',\n",
              "       'OTRO_CASO', 'RESULTADO', 'MIGRANTE', 'PAIS_NACIONALIDAD',\n",
              "       'PAIS_ORIGEN', 'UCI'],\n",
              "      dtype='object')"
            ]
          },
          "metadata": {
            "tags": []
          },
          "execution_count": 3
        }
      ]
    },
    {
      "cell_type": "markdown",
      "metadata": {
        "id": "A6PWj_I1cXCA"
      },
      "source": [
        "# Tabla1"
      ]
    },
    {
      "cell_type": "code",
      "metadata": {
        "id": "nNybMFsbifD8"
      },
      "source": [
        "#En un solo paso filtramos el dataset con las personas confirmadas en sonora y que fallecieron, Agrupamos por fecha de defuncion para contabilizarlos.\n",
        "df_sonora = df_raw.query(\"ENTIDAD_RES == 26 and RESULTADO == 1 and FECHA_DEF != '9999-99-99' \")[['FECHA_SINTOMAS','FECHA_INGRESO', 'FECHA_DEF']].groupby(['FECHA_SINTOMAS','FECHA_INGRESO']).count()"
      ],
      "execution_count": 4,
      "outputs": []
    },
    {
      "cell_type": "code",
      "metadata": {
        "colab": {
          "base_uri": "https://localhost:8080/",
          "height": 1000
        },
        "id": "eUcOh_gMXfOI",
        "outputId": "4d1f279d-b830-4d74-d6ac-2724ea7e0620"
      },
      "source": [
        "#Imprimimos el dataset para visualizar la informacion\n",
        "df_sonora"
      ],
      "execution_count": 5,
      "outputs": [
        {
          "output_type": "execute_result",
          "data": {
            "text/html": [
              "<div>\n",
              "<style scoped>\n",
              "    .dataframe tbody tr th:only-of-type {\n",
              "        vertical-align: middle;\n",
              "    }\n",
              "\n",
              "    .dataframe tbody tr th {\n",
              "        vertical-align: top;\n",
              "    }\n",
              "\n",
              "    .dataframe thead th {\n",
              "        text-align: right;\n",
              "    }\n",
              "</style>\n",
              "<table border=\"1\" class=\"dataframe\">\n",
              "  <thead>\n",
              "    <tr style=\"text-align: right;\">\n",
              "      <th></th>\n",
              "      <th></th>\n",
              "      <th>FECHA_DEF</th>\n",
              "    </tr>\n",
              "    <tr>\n",
              "      <th>FECHA_SINTOMAS</th>\n",
              "      <th>FECHA_INGRESO</th>\n",
              "      <th></th>\n",
              "    </tr>\n",
              "  </thead>\n",
              "  <tbody>\n",
              "    <tr>\n",
              "      <th>2020-03-20</th>\n",
              "      <th>2020-03-25</th>\n",
              "      <td>1</td>\n",
              "    </tr>\n",
              "    <tr>\n",
              "      <th>2020-03-22</th>\n",
              "      <th>2020-03-28</th>\n",
              "      <td>1</td>\n",
              "    </tr>\n",
              "    <tr>\n",
              "      <th>2020-03-24</th>\n",
              "      <th>2020-03-24</th>\n",
              "      <td>1</td>\n",
              "    </tr>\n",
              "    <tr>\n",
              "      <th rowspan=\"2\" valign=\"top\">2020-03-27</th>\n",
              "      <th>2020-03-27</th>\n",
              "      <td>1</td>\n",
              "    </tr>\n",
              "    <tr>\n",
              "      <th>2020-04-10</th>\n",
              "      <td>1</td>\n",
              "    </tr>\n",
              "    <tr>\n",
              "      <th rowspan=\"2\" valign=\"top\">2020-03-28</th>\n",
              "      <th>2020-04-01</th>\n",
              "      <td>1</td>\n",
              "    </tr>\n",
              "    <tr>\n",
              "      <th>2020-04-02</th>\n",
              "      <td>1</td>\n",
              "    </tr>\n",
              "    <tr>\n",
              "      <th>2020-03-30</th>\n",
              "      <th>2020-04-02</th>\n",
              "      <td>1</td>\n",
              "    </tr>\n",
              "    <tr>\n",
              "      <th>2020-03-31</th>\n",
              "      <th>2020-04-04</th>\n",
              "      <td>1</td>\n",
              "    </tr>\n",
              "    <tr>\n",
              "      <th rowspan=\"2\" valign=\"top\">2020-04-01</th>\n",
              "      <th>2020-04-04</th>\n",
              "      <td>1</td>\n",
              "    </tr>\n",
              "    <tr>\n",
              "      <th>2020-04-06</th>\n",
              "      <td>1</td>\n",
              "    </tr>\n",
              "    <tr>\n",
              "      <th>2020-04-03</th>\n",
              "      <th>2020-04-06</th>\n",
              "      <td>1</td>\n",
              "    </tr>\n",
              "    <tr>\n",
              "      <th>2020-04-04</th>\n",
              "      <th>2020-04-09</th>\n",
              "      <td>1</td>\n",
              "    </tr>\n",
              "    <tr>\n",
              "      <th>2020-04-06</th>\n",
              "      <th>2020-04-09</th>\n",
              "      <td>1</td>\n",
              "    </tr>\n",
              "    <tr>\n",
              "      <th>2020-04-08</th>\n",
              "      <th>2020-04-14</th>\n",
              "      <td>1</td>\n",
              "    </tr>\n",
              "    <tr>\n",
              "      <th>2020-04-09</th>\n",
              "      <th>2020-04-16</th>\n",
              "      <td>2</td>\n",
              "    </tr>\n",
              "    <tr>\n",
              "      <th rowspan=\"2\" valign=\"top\">2020-04-10</th>\n",
              "      <th>2020-04-12</th>\n",
              "      <td>1</td>\n",
              "    </tr>\n",
              "    <tr>\n",
              "      <th>2020-04-13</th>\n",
              "      <td>1</td>\n",
              "    </tr>\n",
              "    <tr>\n",
              "      <th rowspan=\"2\" valign=\"top\">2020-04-11</th>\n",
              "      <th>2020-04-15</th>\n",
              "      <td>1</td>\n",
              "    </tr>\n",
              "    <tr>\n",
              "      <th>2020-04-18</th>\n",
              "      <td>1</td>\n",
              "    </tr>\n",
              "    <tr>\n",
              "      <th rowspan=\"2\" valign=\"top\">2020-04-13</th>\n",
              "      <th>2020-04-13</th>\n",
              "      <td>1</td>\n",
              "    </tr>\n",
              "    <tr>\n",
              "      <th>2020-04-18</th>\n",
              "      <td>1</td>\n",
              "    </tr>\n",
              "    <tr>\n",
              "      <th rowspan=\"2\" valign=\"top\">2020-04-14</th>\n",
              "      <th>2020-04-18</th>\n",
              "      <td>1</td>\n",
              "    </tr>\n",
              "    <tr>\n",
              "      <th>2020-04-21</th>\n",
              "      <td>1</td>\n",
              "    </tr>\n",
              "    <tr>\n",
              "      <th rowspan=\"2\" valign=\"top\">2020-04-16</th>\n",
              "      <th>2020-04-19</th>\n",
              "      <td>1</td>\n",
              "    </tr>\n",
              "    <tr>\n",
              "      <th>2020-04-22</th>\n",
              "      <td>1</td>\n",
              "    </tr>\n",
              "    <tr>\n",
              "      <th>2020-04-18</th>\n",
              "      <th>2020-04-21</th>\n",
              "      <td>1</td>\n",
              "    </tr>\n",
              "    <tr>\n",
              "      <th>2020-04-20</th>\n",
              "      <th>2020-04-27</th>\n",
              "      <td>1</td>\n",
              "    </tr>\n",
              "    <tr>\n",
              "      <th>2020-04-23</th>\n",
              "      <th>2020-04-27</th>\n",
              "      <td>1</td>\n",
              "    </tr>\n",
              "    <tr>\n",
              "      <th>2020-04-27</th>\n",
              "      <th>2020-04-27</th>\n",
              "      <td>1</td>\n",
              "    </tr>\n",
              "    <tr>\n",
              "      <th>2020-04-30</th>\n",
              "      <th>2020-04-30</th>\n",
              "      <td>1</td>\n",
              "    </tr>\n",
              "    <tr>\n",
              "      <th>2020-05-01</th>\n",
              "      <th>2020-05-02</th>\n",
              "      <td>1</td>\n",
              "    </tr>\n",
              "  </tbody>\n",
              "</table>\n",
              "</div>"
            ],
            "text/plain": [
              "                              FECHA_DEF\n",
              "FECHA_SINTOMAS FECHA_INGRESO           \n",
              "2020-03-20     2020-03-25             1\n",
              "2020-03-22     2020-03-28             1\n",
              "2020-03-24     2020-03-24             1\n",
              "2020-03-27     2020-03-27             1\n",
              "               2020-04-10             1\n",
              "2020-03-28     2020-04-01             1\n",
              "               2020-04-02             1\n",
              "2020-03-30     2020-04-02             1\n",
              "2020-03-31     2020-04-04             1\n",
              "2020-04-01     2020-04-04             1\n",
              "               2020-04-06             1\n",
              "2020-04-03     2020-04-06             1\n",
              "2020-04-04     2020-04-09             1\n",
              "2020-04-06     2020-04-09             1\n",
              "2020-04-08     2020-04-14             1\n",
              "2020-04-09     2020-04-16             2\n",
              "2020-04-10     2020-04-12             1\n",
              "               2020-04-13             1\n",
              "2020-04-11     2020-04-15             1\n",
              "               2020-04-18             1\n",
              "2020-04-13     2020-04-13             1\n",
              "               2020-04-18             1\n",
              "2020-04-14     2020-04-18             1\n",
              "               2020-04-21             1\n",
              "2020-04-16     2020-04-19             1\n",
              "               2020-04-22             1\n",
              "2020-04-18     2020-04-21             1\n",
              "2020-04-20     2020-04-27             1\n",
              "2020-04-23     2020-04-27             1\n",
              "2020-04-27     2020-04-27             1\n",
              "2020-04-30     2020-04-30             1\n",
              "2020-05-01     2020-05-02             1"
            ]
          },
          "metadata": {
            "tags": []
          },
          "execution_count": 5
        }
      ]
    },
    {
      "cell_type": "code",
      "metadata": {
        "id": "dah6YxieYunD"
      },
      "source": [
        "#Hacemos un pequeño ajuste en el nombre de las columnas.\n",
        "df_sonora.rename(columns={'FECHA_DEF':'DECESOS'}, inplace=True)"
      ],
      "execution_count": 6,
      "outputs": []
    },
    {
      "cell_type": "code",
      "metadata": {
        "id": "AyLJfYX1ZRUs"
      },
      "source": [
        "#Exportamos el dataset.\n",
        "df_sonora.to_csv(\"tabla1.csv\")"
      ],
      "execution_count": 7,
      "outputs": []
    },
    {
      "cell_type": "markdown",
      "metadata": {
        "id": "qzDg8wgTcfdA"
      },
      "source": [
        "# Tabla2"
      ]
    },
    {
      "cell_type": "code",
      "metadata": {
        "id": "ZqTBpaHbciAN"
      },
      "source": [
        "#Generamos un nuevo dataset filtrando por entidad de residencia (8 = Chichuahua, 19 = Nuevo Leon, 21 = Puebla, 26 = Sonora) y que el tipo de paciente sea typo 2 (hospitalizado) y  Agrupamos por entidad de residencia para contabilizarlos.\n",
        "df_SCNP = df_raw.query(\"ENTIDAD_RES == [8,19,21,26] and TIPO_PACIENTE == 2\")[['ENTIDAD_RES','TIPO_PACIENTE']].groupby(['ENTIDAD_RES']).count()"
      ],
      "execution_count": 8,
      "outputs": []
    },
    {
      "cell_type": "code",
      "metadata": {
        "id": "_6cST0QDqGtN"
      },
      "source": [
        "#Actualizamos el indice del dataset para que sea mas amigable el resultado (numero a descripcion).\n",
        "df_SCNP.index = df_SCNP.index.map({8:'Chichuahua', 19:'Nuevo Leon', 21:'Puebla', 26:'Sonora'})"
      ],
      "execution_count": 9,
      "outputs": []
    },
    {
      "cell_type": "code",
      "metadata": {
        "id": "s-OXoDlOxy9L"
      },
      "source": [
        "#Hacemos un pequeño ajuste en el nombre de las columnas.\n",
        "df_SCNP.rename(columns={'TIPO_PACIENTE':'HOSPITALIZADOS'}, inplace=True)"
      ],
      "execution_count": 10,
      "outputs": []
    },
    {
      "cell_type": "code",
      "metadata": {
        "colab": {
          "base_uri": "https://localhost:8080/",
          "height": 206
        },
        "id": "tjQG29Mdsy90",
        "outputId": "afe62cf4-fba1-4e7a-8328-85e1cbab8f78"
      },
      "source": [
        "#Imprimimos el dataset para visualizar la informacion\n",
        "df_SCNP"
      ],
      "execution_count": 11,
      "outputs": [
        {
          "output_type": "execute_result",
          "data": {
            "text/html": [
              "<div>\n",
              "<style scoped>\n",
              "    .dataframe tbody tr th:only-of-type {\n",
              "        vertical-align: middle;\n",
              "    }\n",
              "\n",
              "    .dataframe tbody tr th {\n",
              "        vertical-align: top;\n",
              "    }\n",
              "\n",
              "    .dataframe thead th {\n",
              "        text-align: right;\n",
              "    }\n",
              "</style>\n",
              "<table border=\"1\" class=\"dataframe\">\n",
              "  <thead>\n",
              "    <tr style=\"text-align: right;\">\n",
              "      <th></th>\n",
              "      <th>HOSPITALIZADOS</th>\n",
              "    </tr>\n",
              "    <tr>\n",
              "      <th>ENTIDAD_RES</th>\n",
              "      <th></th>\n",
              "    </tr>\n",
              "  </thead>\n",
              "  <tbody>\n",
              "    <tr>\n",
              "      <th>Chichuahua</th>\n",
              "      <td>1013</td>\n",
              "    </tr>\n",
              "    <tr>\n",
              "      <th>Nuevo Leon</th>\n",
              "      <td>1065</td>\n",
              "    </tr>\n",
              "    <tr>\n",
              "      <th>Puebla</th>\n",
              "      <td>1295</td>\n",
              "    </tr>\n",
              "    <tr>\n",
              "      <th>Sonora</th>\n",
              "      <td>604</td>\n",
              "    </tr>\n",
              "  </tbody>\n",
              "</table>\n",
              "</div>"
            ],
            "text/plain": [
              "             HOSPITALIZADOS\n",
              "ENTIDAD_RES                \n",
              "Chichuahua             1013\n",
              "Nuevo Leon             1065\n",
              "Puebla                 1295\n",
              "Sonora                  604"
            ]
          },
          "metadata": {
            "tags": []
          },
          "execution_count": 11
        }
      ]
    },
    {
      "cell_type": "code",
      "metadata": {
        "id": "hzjqhFJiqyZa"
      },
      "source": [
        "#Exportamos el dataset.\n",
        "df_SCNP.to_csv(\"tabla2.csv\")"
      ],
      "execution_count": 12,
      "outputs": []
    },
    {
      "cell_type": "markdown",
      "metadata": {
        "id": "wx3tO_iQukVF"
      },
      "source": [
        "#Grafica 1"
      ]
    },
    {
      "cell_type": "code",
      "metadata": {
        "colab": {
          "base_uri": "https://localhost:8080/",
          "height": 0
        },
        "id": "LRqfOo1fun0A",
        "outputId": "2afef906-e7a3-4032-c071-4c9fb8279c69"
      },
      "source": [
        "#Generamos un grafico de tipo barra utilizando la tabla previamente generada.\n",
        "Grafica1 = df_SCNP.plot.bar()"
      ],
      "execution_count": 13,
      "outputs": [
        {
          "output_type": "display_data",
          "data": {
            "image/png": "[encoded data removed]",
            "text/plain": [
              "<Figure size 432x288 with 1 Axes>"
            ]
          },
          "metadata": {
            "tags": [],
            "needs_background": "light"
          }
        }
      ]
    },
    {
      "cell_type": "code",
      "metadata": {
        "id": "EC_39D9h3TIE"
      },
      "source": [
        "#Exportamos el grafico a tipo png.\n",
        "Grafica1.get_figure().savefig('Grafica1.png')"
      ],
      "execution_count": 14,
      "outputs": []
    },
    {
      "cell_type": "markdown",
      "metadata": {
        "id": "B0Wgde7cz4UG"
      },
      "source": [
        "#Grafica 2"
      ]
    },
    {
      "cell_type": "code",
      "metadata": {
        "id": "jm8r_oxhz6_W"
      },
      "source": [
        "#Generamos un dataframe con la fecha de ingreso agrupada para poder graficar.\n",
        "df_tiempo = df_raw.query(\"RESULTADO == 1\")[['FECHA_SINTOMAS','RESULTADO']].groupby(['FECHA_SINTOMAS']).count()"
      ],
      "execution_count": 15,
      "outputs": []
    },
    {
      "cell_type": "code",
      "metadata": {
        "id": "VW96mQJB2vQc"
      },
      "source": [
        "#Hacemos un pequeño ajuste en el nombre de las columnas para faclitar el proceso de graficado.\n",
        "df_tiempo.rename(columns={'RESULTADO':'CASOS_CONFIRMADOS'}, inplace=True)"
      ],
      "execution_count": 16,
      "outputs": []
    },
    {
      "cell_type": "code",
      "metadata": {
        "colab": {
          "base_uri": "https://localhost:8080/",
          "height": 455
        },
        "id": "fA4F4gAb2OYJ",
        "outputId": "39885b5e-2f5d-406b-abe3-43dc5bc8019f"
      },
      "source": [
        "#Imprimimos el dataset para visualizar la informacion\n",
        "df_tiempo"
      ],
      "execution_count": 17,
      "outputs": [
        {
          "output_type": "execute_result",
          "data": {
            "text/html": [
              "<div>\n",
              "<style scoped>\n",
              "    .dataframe tbody tr th:only-of-type {\n",
              "        vertical-align: middle;\n",
              "    }\n",
              "\n",
              "    .dataframe tbody tr th {\n",
              "        vertical-align: top;\n",
              "    }\n",
              "\n",
              "    .dataframe thead th {\n",
              "        text-align: right;\n",
              "    }\n",
              "</style>\n",
              "<table border=\"1\" class=\"dataframe\">\n",
              "  <thead>\n",
              "    <tr style=\"text-align: right;\">\n",
              "      <th></th>\n",
              "      <th>CASOS_CONFIRMADOS</th>\n",
              "    </tr>\n",
              "    <tr>\n",
              "      <th>FECHA_SINTOMAS</th>\n",
              "      <th></th>\n",
              "    </tr>\n",
              "  </thead>\n",
              "  <tbody>\n",
              "    <tr>\n",
              "      <th>2020-01-08</th>\n",
              "      <td>1</td>\n",
              "    </tr>\n",
              "    <tr>\n",
              "      <th>2020-01-14</th>\n",
              "      <td>1</td>\n",
              "    </tr>\n",
              "    <tr>\n",
              "      <th>2020-01-17</th>\n",
              "      <td>1</td>\n",
              "    </tr>\n",
              "    <tr>\n",
              "      <th>2020-01-28</th>\n",
              "      <td>1</td>\n",
              "    </tr>\n",
              "    <tr>\n",
              "      <th>2020-01-30</th>\n",
              "      <td>1</td>\n",
              "    </tr>\n",
              "    <tr>\n",
              "      <th>...</th>\n",
              "      <td>...</td>\n",
              "    </tr>\n",
              "    <tr>\n",
              "      <th>2020-05-06</th>\n",
              "      <td>348</td>\n",
              "    </tr>\n",
              "    <tr>\n",
              "      <th>2020-05-07</th>\n",
              "      <td>181</td>\n",
              "    </tr>\n",
              "    <tr>\n",
              "      <th>2020-05-08</th>\n",
              "      <td>97</td>\n",
              "    </tr>\n",
              "    <tr>\n",
              "      <th>2020-05-09</th>\n",
              "      <td>20</td>\n",
              "    </tr>\n",
              "    <tr>\n",
              "      <th>2020-05-10</th>\n",
              "      <td>9</td>\n",
              "    </tr>\n",
              "  </tbody>\n",
              "</table>\n",
              "<p>89 rows × 1 columns</p>\n",
              "</div>"
            ],
            "text/plain": [
              "                CASOS_CONFIRMADOS\n",
              "FECHA_SINTOMAS                   \n",
              "2020-01-08                      1\n",
              "2020-01-14                      1\n",
              "2020-01-17                      1\n",
              "2020-01-28                      1\n",
              "2020-01-30                      1\n",
              "...                           ...\n",
              "2020-05-06                    348\n",
              "2020-05-07                    181\n",
              "2020-05-08                     97\n",
              "2020-05-09                     20\n",
              "2020-05-10                      9\n",
              "\n",
              "[89 rows x 1 columns]"
            ]
          },
          "metadata": {
            "tags": []
          },
          "execution_count": 17
        }
      ]
    },
    {
      "cell_type": "code",
      "metadata": {
        "colab": {
          "base_uri": "https://localhost:8080/",
          "height": 280
        },
        "id": "dIQdLAP62b81",
        "outputId": "f6d1acc7-7819-42aa-f442-70fc0b4c5221"
      },
      "source": [
        "#Generamos un grafico de tipo linea utilizando la tabla previamente generada.\n",
        "Grafica2 = df_tiempo.plot.line()"
      ],
      "execution_count": 18,
      "outputs": [
        {
          "output_type": "display_data",
          "data": {
            "image/png": "[encoded data removed]",
            "text/plain": [
              "<Figure size 432x288 with 1 Axes>"
            ]
          },
          "metadata": {
            "tags": [],
            "needs_background": "light"
          }
        }
      ]
    },
    {
      "cell_type": "code",
      "metadata": {
        "id": "CNaA3ENO4BrO"
      },
      "source": [
        "#Exportamos el grafico a tipo png.\n",
        "Grafica2.get_figure().savefig('Grafica2.png')"
      ],
      "execution_count": 19,
      "outputs": []
    }
  ]
}